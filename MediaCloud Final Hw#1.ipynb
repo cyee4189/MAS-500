{
 "cells": [
  {
   "cell_type": "code",
   "execution_count": 7,
   "metadata": {},
   "outputs": [],
   "source": [
    "import sys"
   ]
  },
  {
   "cell_type": "code",
   "execution_count": 8,
   "metadata": {},
   "outputs": [
    {
     "data": {
      "text/plain": [
       "['',\n",
       " '/Users/constanceyee/anaconda/lib/python36.zip',\n",
       " '/Users/constanceyee/anaconda/lib/python3.6',\n",
       " '/Users/constanceyee/anaconda/lib/python3.6/lib-dynload',\n",
       " '/Users/constanceyee/anaconda/lib/python3.6/site-packages',\n",
       " '/Users/constanceyee/anaconda/lib/python3.6/site-packages/Sphinx-1.5.1-py3.6.egg',\n",
       " '/Users/constanceyee/anaconda/lib/python3.6/site-packages/aeosa',\n",
       " '/Users/constanceyee/anaconda/lib/python3.6/site-packages/setuptools-27.2.0-py3.6.egg',\n",
       " '/Users/constanceyee/anaconda/lib/python3.6/site-packages/IPython/extensions',\n",
       " '/Users/constanceyee/.ipython']"
      ]
     },
     "execution_count": 8,
     "metadata": {},
     "output_type": "execute_result"
    }
   ],
   "source": [
    "sys.path"
   ]
  },
  {
   "cell_type": "code",
   "execution_count": 11,
   "metadata": {},
   "outputs": [],
   "source": [
    "sys.path.append(\"/Users/constanceyee/MediaCloud Notebook/mediacloud-2.43.2\")"
   ]
  },
  {
   "cell_type": "code",
   "execution_count": 12,
   "metadata": {},
   "outputs": [
    {
     "data": {
      "text/plain": [
       "['',\n",
       " '/Users/constanceyee/anaconda/lib/python36.zip',\n",
       " '/Users/constanceyee/anaconda/lib/python3.6',\n",
       " '/Users/constanceyee/anaconda/lib/python3.6/lib-dynload',\n",
       " '/Users/constanceyee/anaconda/lib/python3.6/site-packages',\n",
       " '/Users/constanceyee/anaconda/lib/python3.6/site-packages/Sphinx-1.5.1-py3.6.egg',\n",
       " '/Users/constanceyee/anaconda/lib/python3.6/site-packages/aeosa',\n",
       " '/Users/constanceyee/anaconda/lib/python3.6/site-packages/setuptools-27.2.0-py3.6.egg',\n",
       " '/Users/constanceyee/anaconda/lib/python3.6/site-packages/IPython/extensions',\n",
       " '/Users/constanceyee/.ipython',\n",
       " '/Users/constanceyee/MediaCloud Notebook/mediacloud-2.43.2']"
      ]
     },
     "execution_count": 12,
     "metadata": {},
     "output_type": "execute_result"
    }
   ],
   "source": [
    "sys.path"
   ]
  },
  {
   "cell_type": "code",
   "execution_count": 13,
   "metadata": {
    "collapsed": true
   },
   "outputs": [],
   "source": [
    "import mediacloud"
   ]
  },
  {
   "cell_type": "code",
   "execution_count": 15,
   "metadata": {},
   "outputs": [
    {
     "name": "stdout",
     "output_type": "stream",
     "text": [
      "43\n"
     ]
    }
   ],
   "source": [
    "mc = mediacloud.api.MediaCloud('MY API KEY')\n",
    "results = mc.sentenceCount('( zimbabwe AND president)', '+publish_date:[2013-01-01T00:00:00Z TO 2014-01-01T00:00:00Z} AND +tags_id_media:1')\n",
    "print (results['count'])"
   ]
  },
  {
   "cell_type": "code",
   "execution_count": 16,
   "metadata": {
    "collapsed": true
   },
   "outputs": [],
   "source": [
    "import datetime"
   ]
  },
  {
   "cell_type": "code",
   "execution_count": 21,
   "metadata": {},
   "outputs": [
    {
     "name": "stdout",
     "output_type": "stream",
     "text": [
      "Trump\n",
      "326679\n"
     ]
    }
   ],
   "source": [
    "mc = mediacloud.api.MediaCloud('MY API KEY') #replace with your actual API Key\n",
    "resultsClin = mc.sentenceCount('( Clinton )', '+publish_date:[2016-01-01T00:00:00Z TO 2017-01-01T00:00:00Z} AND +tags_id_media:1')\n",
    "resultsTrum = mc.sentenceCount('( Trump )', '+publish_date:[2016-01-01T00:00:00Z TO 2017-01-01T00:00:00Z} AND +tags_id_media:1')\n",
    "\n",
    "if resultsClin['count'] >= resultsTrum['count']:\n",
    "    print (\"Clinton\")\n",
    "    print (resultsClin['count'])\n",
    "else: \n",
    "    print (\"Trump\")\n",
    "    print (resultsTrum['count'])"
   ]
  },
  {
   "cell_type": "raw",
   "metadata": {},
   "source": []
  },
  {
   "cell_type": "code",
   "execution_count": null,
   "metadata": {
    "collapsed": true
   },
   "outputs": [],
   "source": []
  }
 ],
 "metadata": {
  "kernelspec": {
   "display_name": "Python 3",
   "language": "python",
   "name": "python3"
  },
  "language_info": {
   "codemirror_mode": {
    "name": "ipython",
    "version": 3
   },
   "file_extension": ".py",
   "mimetype": "text/x-python",
   "name": "python",
   "nbconvert_exporter": "python",
   "pygments_lexer": "ipython3",
   "version": "3.6.2"
  }
 },
 "nbformat": 4,
 "nbformat_minor": 2
}
